{
 "cells": [
  {
   "cell_type": "code",
   "execution_count": 1,
   "metadata": {},
   "outputs": [],
   "source": [
    "class MeraLR:\n",
    "    \n",
    "    def __init__(self):\n",
    "        self.m = None\n",
    "        self.b = None\n",
    "        \n",
    "    def fit(self,X_train,y_train):\n",
    "        \n",
    "        num = 0\n",
    "        den = 0\n",
    "        \n",
    "        for i in range(X_train.shape[0]):\n",
    "            \n",
    "            num = num + ((X_train[i] - X_train.mean())*(y_train[i] - y_train.mean()))\n",
    "            den = den + ((X_train[i] - X_train.mean())*(X_train[i] - X_train.mean()))\n",
    "        \n",
    "        self.m = num/den\n",
    "        self.b = y_train.mean() - (self.m * X_train.mean())\n",
    "        print(self.m)\n",
    "        print(self.b)       \n",
    "    \n",
    "    def predict(self,X_test):\n",
    "        \n",
    "        print(X_test)\n",
    "        \n",
    "        return self.m * X_test + self.b"
   ]
  },
  {
   "cell_type": "code",
   "execution_count": 2,
   "metadata": {},
   "outputs": [],
   "source": [
    "import numpy as np\n",
    "import pandas as pd"
   ]
  },
  {
   "cell_type": "code",
   "execution_count": 3,
   "metadata": {},
   "outputs": [],
   "source": [
    "df = pd.read_csv('placement.csv')"
   ]
  },
  {
   "cell_type": "code",
   "execution_count": 4,
   "metadata": {},
   "outputs": [
    {
     "data": {
      "text/html": [
       "<div>\n",
       "<style scoped>\n",
       "    .dataframe tbody tr th:only-of-type {\n",
       "        vertical-align: middle;\n",
       "    }\n",
       "\n",
       "    .dataframe tbody tr th {\n",
       "        vertical-align: top;\n",
       "    }\n",
       "\n",
       "    .dataframe thead th {\n",
       "        text-align: right;\n",
       "    }\n",
       "</style>\n",
       "<table border=\"1\" class=\"dataframe\">\n",
       "  <thead>\n",
       "    <tr style=\"text-align: right;\">\n",
       "      <th></th>\n",
       "      <th>cgpa</th>\n",
       "      <th>package</th>\n",
       "    </tr>\n",
       "  </thead>\n",
       "  <tbody>\n",
       "    <tr>\n",
       "      <th>0</th>\n",
       "      <td>6.89</td>\n",
       "      <td>3.26</td>\n",
       "    </tr>\n",
       "    <tr>\n",
       "      <th>1</th>\n",
       "      <td>5.12</td>\n",
       "      <td>1.98</td>\n",
       "    </tr>\n",
       "    <tr>\n",
       "      <th>2</th>\n",
       "      <td>7.82</td>\n",
       "      <td>3.25</td>\n",
       "    </tr>\n",
       "    <tr>\n",
       "      <th>3</th>\n",
       "      <td>7.42</td>\n",
       "      <td>3.67</td>\n",
       "    </tr>\n",
       "    <tr>\n",
       "      <th>4</th>\n",
       "      <td>6.94</td>\n",
       "      <td>3.57</td>\n",
       "    </tr>\n",
       "  </tbody>\n",
       "</table>\n",
       "</div>"
      ],
      "text/plain": [
       "   cgpa  package\n",
       "0  6.89     3.26\n",
       "1  5.12     1.98\n",
       "2  7.82     3.25\n",
       "3  7.42     3.67\n",
       "4  6.94     3.57"
      ]
     },
     "execution_count": 4,
     "metadata": {},
     "output_type": "execute_result"
    }
   ],
   "source": [
    "df.head()"
   ]
  },
  {
   "cell_type": "code",
   "execution_count": 8,
   "metadata": {},
   "outputs": [],
   "source": [
    "X = df.iloc[:,0].values\n",
    "y = df.iloc[:,1].values.reshape(-1,1)"
   ]
  },
  {
   "cell_type": "code",
   "execution_count": 9,
   "metadata": {},
   "outputs": [
    {
     "data": {
      "text/plain": [
       "array([6.89, 5.12, 7.82, 7.42, 6.94, 7.89, 6.73, 6.75, 6.09, 8.31, 5.32,\n",
       "       6.61, 8.94, 6.93, 7.73, 7.25, 6.84, 5.38, 6.94, 7.48, 7.28, 6.85,\n",
       "       6.14, 6.19, 6.53, 7.28, 8.31, 5.42, 5.94, 7.15, 7.36, 8.1 , 6.96,\n",
       "       6.35, 7.34, 6.87, 5.99, 5.9 , 8.62, 7.43, 9.38, 6.89, 5.95, 7.66,\n",
       "       5.09, 7.87, 6.07, 5.84, 8.63, 8.87, 9.58, 9.26, 8.37, 6.47, 6.86,\n",
       "       8.2 , 5.84, 6.6 , 6.92, 7.56, 5.61, 5.48, 6.34, 9.16, 7.36, 7.6 ,\n",
       "       5.11, 6.51, 7.56, 7.3 , 5.79, 7.47, 7.78, 8.44, 6.85, 6.97, 6.94,\n",
       "       8.99, 6.59, 7.18, 7.63, 6.1 , 5.58, 8.44, 4.26, 4.79, 7.61, 8.09,\n",
       "       4.73, 6.42, 7.11, 6.22, 7.9 , 6.79, 5.83, 6.63, 7.11, 5.98, 7.69,\n",
       "       6.61, 7.95, 6.71, 5.13, 7.05, 7.62, 6.66, 6.13, 6.33, 7.76, 7.77,\n",
       "       8.18, 5.42, 8.58, 6.94, 5.84, 8.35, 9.04, 7.12, 7.4 , 7.39, 5.23,\n",
       "       6.5 , 5.12, 5.1 , 6.06, 7.33, 5.91, 6.78, 7.93, 7.29, 6.68, 6.37,\n",
       "       5.84, 6.05, 7.2 , 6.1 , 5.64, 7.14, 7.91, 7.19, 7.91, 6.76, 6.93,\n",
       "       4.85, 6.17, 5.84, 6.07, 5.66, 7.57, 8.28, 6.3 , 6.12, 7.37, 7.94,\n",
       "       7.08, 6.98, 7.38, 6.47, 5.95, 8.71, 7.13, 7.3 , 5.53, 8.93, 9.06,\n",
       "       8.21, 8.6 , 8.13, 8.65, 9.31, 6.22, 8.01, 6.93, 6.75, 7.32, 7.04,\n",
       "       6.29, 7.09, 8.15, 7.14, 6.19, 8.22, 5.88, 7.28, 7.88, 6.31, 7.84,\n",
       "       6.26, 7.35, 8.11, 6.19, 7.28, 8.25, 4.57, 7.89, 6.93, 5.89, 7.21,\n",
       "       7.63, 6.22])"
      ]
     },
     "execution_count": 9,
     "metadata": {},
     "output_type": "execute_result"
    }
   ],
   "source": [
    "X"
   ]
  },
  {
   "cell_type": "code",
   "execution_count": 10,
   "metadata": {},
   "outputs": [
    {
     "data": {
      "text/plain": [
       "array([[3.26],\n",
       "       [1.98],\n",
       "       [3.25],\n",
       "       [3.67],\n",
       "       [3.57],\n",
       "       [2.99],\n",
       "       [2.6 ],\n",
       "       [2.48],\n",
       "       [2.31],\n",
       "       [3.51],\n",
       "       [1.86],\n",
       "       [2.6 ],\n",
       "       [3.65],\n",
       "       [2.89],\n",
       "       [3.42],\n",
       "       [3.23],\n",
       "       [2.35],\n",
       "       [2.09],\n",
       "       [2.98],\n",
       "       [2.83],\n",
       "       [3.16],\n",
       "       [2.93],\n",
       "       [2.3 ],\n",
       "       [2.48],\n",
       "       [2.71],\n",
       "       [3.65],\n",
       "       [3.42],\n",
       "       [2.16],\n",
       "       [2.24],\n",
       "       [3.49],\n",
       "       [3.26],\n",
       "       [3.89],\n",
       "       [3.08],\n",
       "       [2.73],\n",
       "       [3.42],\n",
       "       [2.87],\n",
       "       [2.84],\n",
       "       [2.43],\n",
       "       [4.36],\n",
       "       [3.33],\n",
       "       [4.02],\n",
       "       [2.7 ],\n",
       "       [2.54],\n",
       "       [2.76],\n",
       "       [1.86],\n",
       "       [3.58],\n",
       "       [2.26],\n",
       "       [3.26],\n",
       "       [4.09],\n",
       "       [4.62],\n",
       "       [4.43],\n",
       "       [3.79],\n",
       "       [4.11],\n",
       "       [2.61],\n",
       "       [3.09],\n",
       "       [3.39],\n",
       "       [2.74],\n",
       "       [1.94],\n",
       "       [3.09],\n",
       "       [3.31],\n",
       "       [2.19],\n",
       "       [1.61],\n",
       "       [2.09],\n",
       "       [4.25],\n",
       "       [2.92],\n",
       "       [3.81],\n",
       "       [1.63],\n",
       "       [2.89],\n",
       "       [2.99],\n",
       "       [2.94],\n",
       "       [2.35],\n",
       "       [3.34],\n",
       "       [3.62],\n",
       "       [4.03],\n",
       "       [3.44],\n",
       "       [3.28],\n",
       "       [3.15],\n",
       "       [4.6 ],\n",
       "       [2.21],\n",
       "       [3.  ],\n",
       "       [3.44],\n",
       "       [2.2 ],\n",
       "       [2.17],\n",
       "       [3.49],\n",
       "       [1.53],\n",
       "       [1.48],\n",
       "       [2.77],\n",
       "       [3.55],\n",
       "       [1.48],\n",
       "       [2.72],\n",
       "       [2.66],\n",
       "       [2.14],\n",
       "       [4.  ],\n",
       "       [3.08],\n",
       "       [2.42],\n",
       "       [2.79],\n",
       "       [2.61],\n",
       "       [2.84],\n",
       "       [3.83],\n",
       "       [3.24],\n",
       "       [4.14],\n",
       "       [3.52],\n",
       "       [1.37],\n",
       "       [3.  ],\n",
       "       [3.74],\n",
       "       [2.82],\n",
       "       [2.19],\n",
       "       [2.59],\n",
       "       [3.54],\n",
       "       [4.06],\n",
       "       [3.76],\n",
       "       [2.25],\n",
       "       [4.1 ],\n",
       "       [2.37],\n",
       "       [1.87],\n",
       "       [4.21],\n",
       "       [3.33],\n",
       "       [2.99],\n",
       "       [2.88],\n",
       "       [2.65],\n",
       "       [1.73],\n",
       "       [3.02],\n",
       "       [2.01],\n",
       "       [2.3 ],\n",
       "       [2.31],\n",
       "       [3.16],\n",
       "       [2.6 ],\n",
       "       [3.11],\n",
       "       [3.34],\n",
       "       [3.12],\n",
       "       [2.49],\n",
       "       [2.01],\n",
       "       [2.48],\n",
       "       [2.58],\n",
       "       [2.83],\n",
       "       [2.6 ],\n",
       "       [2.1 ],\n",
       "       [3.13],\n",
       "       [3.89],\n",
       "       [2.4 ],\n",
       "       [3.15],\n",
       "       [3.18],\n",
       "       [3.04],\n",
       "       [1.54],\n",
       "       [2.42],\n",
       "       [2.18],\n",
       "       [2.46],\n",
       "       [2.21],\n",
       "       [3.4 ],\n",
       "       [3.67],\n",
       "       [2.73],\n",
       "       [2.76],\n",
       "       [3.08],\n",
       "       [3.99],\n",
       "       [2.85],\n",
       "       [3.09],\n",
       "       [3.13],\n",
       "       [2.7 ],\n",
       "       [3.04],\n",
       "       [4.08],\n",
       "       [2.93],\n",
       "       [3.33],\n",
       "       [2.55],\n",
       "       [3.91],\n",
       "       [3.82],\n",
       "       [4.08],\n",
       "       [3.98],\n",
       "       [3.6 ],\n",
       "       [3.52],\n",
       "       [4.37],\n",
       "       [2.87],\n",
       "       [3.76],\n",
       "       [2.51],\n",
       "       [2.56],\n",
       "       [2.99],\n",
       "       [3.5 ],\n",
       "       [3.23],\n",
       "       [3.64],\n",
       "       [3.63],\n",
       "       [3.03],\n",
       "       [2.72],\n",
       "       [3.89],\n",
       "       [2.08],\n",
       "       [2.72],\n",
       "       [3.14],\n",
       "       [3.18],\n",
       "       [3.47],\n",
       "       [2.44],\n",
       "       [3.08],\n",
       "       [4.06],\n",
       "       [2.69],\n",
       "       [3.48],\n",
       "       [3.75],\n",
       "       [1.94],\n",
       "       [3.67],\n",
       "       [2.46],\n",
       "       [2.57],\n",
       "       [3.24],\n",
       "       [3.96],\n",
       "       [2.33]])"
      ]
     },
     "execution_count": 10,
     "metadata": {},
     "output_type": "execute_result"
    }
   ],
   "source": [
    "y"
   ]
  },
  {
   "cell_type": "code",
   "execution_count": 11,
   "metadata": {},
   "outputs": [],
   "source": [
    "from sklearn.model_selection import train_test_split\n",
    "X_train,X_test,y_train,y_test = train_test_split(X,y,test_size=0.2,random_state=2)"
   ]
  },
  {
   "cell_type": "code",
   "execution_count": 12,
   "metadata": {},
   "outputs": [
    {
     "data": {
      "text/plain": [
       "(160,)"
      ]
     },
     "execution_count": 12,
     "metadata": {},
     "output_type": "execute_result"
    }
   ],
   "source": [
    "X_train.shape"
   ]
  },
  {
   "cell_type": "code",
   "execution_count": 13,
   "metadata": {},
   "outputs": [],
   "source": [
    "lr = MeraLR()"
   ]
  },
  {
   "cell_type": "code",
   "execution_count": 14,
   "metadata": {},
   "outputs": [
    {
     "name": "stdout",
     "output_type": "stream",
     "text": [
      "[0.55795197]\n",
      "[-0.89611192]\n"
     ]
    }
   ],
   "source": [
    "lr.fit(X_train,y_train)"
   ]
  },
  {
   "cell_type": "code",
   "execution_count": 15,
   "metadata": {},
   "outputs": [
    {
     "data": {
      "text/plain": [
       "160"
      ]
     },
     "execution_count": 15,
     "metadata": {},
     "output_type": "execute_result"
    }
   ],
   "source": [
    "X_train.shape[0]"
   ]
  },
  {
   "cell_type": "code",
   "execution_count": 16,
   "metadata": {},
   "outputs": [
    {
     "data": {
      "text/plain": [
       "7.14"
      ]
     },
     "execution_count": 16,
     "metadata": {},
     "output_type": "execute_result"
    }
   ],
   "source": [
    "X_train[0]"
   ]
  },
  {
   "cell_type": "code",
   "execution_count": 17,
   "metadata": {},
   "outputs": [
    {
     "data": {
      "text/plain": [
       "6.989937500000001"
      ]
     },
     "execution_count": 17,
     "metadata": {},
     "output_type": "execute_result"
    }
   ],
   "source": [
    "X_train.mean()"
   ]
  },
  {
   "cell_type": "code",
   "execution_count": 18,
   "metadata": {},
   "outputs": [
    {
     "data": {
      "text/plain": [
       "8.58"
      ]
     },
     "execution_count": 18,
     "metadata": {},
     "output_type": "execute_result"
    }
   ],
   "source": [
    "X_test[0]"
   ]
  },
  {
   "cell_type": "code",
   "execution_count": 19,
   "metadata": {},
   "outputs": [
    {
     "name": "stdout",
     "output_type": "stream",
     "text": [
      "8.58\n",
      "[3.89111601]\n"
     ]
    }
   ],
   "source": [
    "print(lr.predict(X_test[0]))"
   ]
  },
  {
   "cell_type": "code",
   "execution_count": null,
   "metadata": {},
   "outputs": [],
   "source": []
  }
 ],
 "metadata": {
  "kernelspec": {
   "display_name": "Python 3",
   "language": "python",
   "name": "python3"
  },
  "language_info": {
   "codemirror_mode": {
    "name": "ipython",
    "version": 3
   },
   "file_extension": ".py",
   "mimetype": "text/x-python",
   "name": "python",
   "nbconvert_exporter": "python",
   "pygments_lexer": "ipython3",
   "version": "3.8.8"
  }
 },
 "nbformat": 4,
 "nbformat_minor": 4
}
