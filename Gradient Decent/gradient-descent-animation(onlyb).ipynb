{
 "cells": [
  {
   "cell_type": "code",
   "execution_count": 1,
   "id": "c28b2265",
   "metadata": {},
   "outputs": [],
   "source": [
    "from sklearn.datasets import make_regression\n",
    "\n",
    "%matplotlib notebook\n",
    "import numpy as np\n",
    "import matplotlib.pyplot as plt\n",
    "from matplotlib.animation import FuncAnimation\n",
    "import matplotlib.animation as animation"
   ]
  },
  {
   "cell_type": "code",
   "execution_count": 2,
   "id": "561d2740",
   "metadata": {},
   "outputs": [],
   "source": [
    "X,y = make_regression(n_samples=100, n_features=1, n_informative=1, n_targets=1,noise=20,random_state=13)"
   ]
  },
  {
   "cell_type": "code",
   "execution_count": null,
   "id": "2fd262e4",
   "metadata": {},
   "outputs": [],
   "source": [
    "plt.scatter(X,y)"
   ]
  },
  {
   "cell_type": "code",
   "execution_count": null,
   "id": "0f8ea9b3",
   "metadata": {},
   "outputs": [],
   "source": [
    "from sklearn.linear_model import LinearRegression\n",
    "reg = LinearRegression()\n",
    "reg.fit(X,y)\n",
    "print(reg.coef_)\n",
    "print(reg.intercept_)"
   ]
  },
  {
   "cell_type": "code",
   "execution_count": null,
   "id": "e8eca169",
   "metadata": {},
   "outputs": [],
   "source": [
    "b = -150\n",
    "m = 27.82\n",
    "lr = 0.001\n",
    "all_b = []\n",
    "all_cost = []\n",
    "\n",
    "epochs = 30\n",
    "\n",
    "for i in range(epochs):\n",
    "    slope = 0\n",
    "    cost = 0\n",
    "    for j in range(X.shape[0]):\n",
    "        slope = slope - 2*(y[j] - (m * X[j]) -  b)\n",
    "        cost = cost + (y[j] - m * X[j] -b) ** 2\n",
    "\n",
    "    b = b - (lr * slope)\n",
    "    all_b.append(b)\n",
    "    all_cost.append(cost)\n",
    "    y_pred = m * X + b\n",
    "    plt.plot(X,y_pred)\n",
    "plt.scatter(X,y)"
   ]
  },
  {
   "cell_type": "code",
   "execution_count": null,
   "id": "bff16895",
   "metadata": {},
   "outputs": [],
   "source": [
    "all_b = np.array(all_b).ravel()"
   ]
  },
  {
   "cell_type": "code",
   "execution_count": null,
   "id": "86d752b7",
   "metadata": {},
   "outputs": [],
   "source": [
    "all_b"
   ]
  },
  {
   "cell_type": "code",
   "execution_count": null,
   "id": "d5fd94d0",
   "metadata": {},
   "outputs": [],
   "source": [
    "all_cost = np.array(all_cost).ravel()\n",
    "all_cost"
   ]
  },
  {
   "cell_type": "markdown",
   "id": "d630c487",
   "metadata": {},
   "source": [
    "num_epochs = list(range(1,31))\n",
    "len(num_epochs)"
   ]
  },
  {
   "cell_type": "code",
   "execution_count": null,
   "id": "56289feb",
   "metadata": {},
   "outputs": [],
   "source": [
    "\n",
    "\n",
    "\n",
    "fig, ax = plt.subplots(figsize=(9,5))\n",
    "#fig.set_tight_layout(True)\n",
    "\n",
    "x_i = np.arange(-3, 3, 0.1)\n",
    "y_i = x_i*m -150\n",
    "ax.scatter(X, y)\n",
    "line, = ax.plot(x_i, x_i*50 - 4, 'r-', linewidth=2)\n",
    "\n",
    "def update(i):\n",
    "    label = 'epoch {0}'.format(i + 1)\n",
    "    line.set_ydata(x_i*m + all_b[i])\n",
    "    ax.set_xlabel(label)\n",
    "    # return line, ax\n",
    "\n",
    "anim = FuncAnimation(fig, update, repeat=True, frames=epochs, interval=500)\n",
    "\n",
    "#f = r\"animation.gif\" \n",
    "#writergif = animation.PillowWriter(fps=2) \n",
    "#anim.save(f, writer=writergif)"
   ]
  },
  {
   "cell_type": "code",
   "execution_count": null,
   "id": "69f35cbd",
   "metadata": {},
   "outputs": [],
   "source": [
    "# creating a blank window \n",
    "# for the animation \n",
    "fig = plt.figure(figsize=(9,5)) \n",
    "axis = plt.axes(xlim =(0, 31), ylim =(0, 2500000)) \n",
    "  \n",
    "line, = axis.plot([], [], lw = 2) \n",
    "  \n",
    "xdata, ydata = [], [] \n",
    "  \n",
    "# animation function \n",
    "def animate(i): \n",
    "    label = 'epoch {0}'.format(i + 1)\n",
    "    xdata.append(num_epochs[i]) \n",
    "    ydata.append(all_cost[i]) \n",
    "    line.set_data(xdata, ydata) \n",
    "    axis.set_xlabel(label)\n",
    "      \n",
    "    return line, \n",
    "  \n",
    "# calling the animation function     \n",
    "anim = animation.FuncAnimation(fig, animate, frames = 30,repeat=False, interval = 500)\n",
    "\n",
    "f = r\"animation1.gif\" \n",
    "writergif = animation.PillowWriter(fps=2) \n",
    "anim.save(f, writer=writergif)"
   ]
  },
  {
   "cell_type": "code",
   "execution_count": null,
   "id": "a058c19d",
   "metadata": {},
   "outputs": [],
   "source": [
    "fig = plt.figure(figsize=(9,5)) \n",
    "axis = plt.axes(xlim =(0, 31), ylim =(-150, 0)) \n",
    "  \n",
    "line, = axis.plot([], [], lw = 2) \n",
    "  \n",
    "xdata, ydata = [], [] \n",
    "  \n",
    "# animation function \n",
    "def animate(i): \n",
    "    label = 'epoch {0}'.format(i + 1)\n",
    "    xdata.append(num_epochs[i]) \n",
    "    ydata.append(all_b[i]) \n",
    "    line.set_data(xdata, ydata) \n",
    "    axis.set_xlabel(label)\n",
    "      \n",
    "    return line, \n",
    "  \n",
    "# calling the animation function     \n",
    "anim = animation.FuncAnimation(fig, animate, frames = 30,repeat=False, interval = 500)\n",
    "\n",
    "f = r\"animation2.gif\" \n",
    "writergif = animation.PillowWriter(fps=2) \n",
    "anim.save(f, writer=writergif)"
   ]
  },
  {
   "cell_type": "code",
   "execution_count": null,
   "id": "59865a60",
   "metadata": {},
   "outputs": [],
   "source": [
    "import matplotlib.pyplot as plt\n",
    "import matplotlib.animation\n",
    "import numpy as np\n",
    "\n",
    "fig, ax = plt.subplots()\n",
    "ax.plot(all_b, all_cost)\n",
    "x, y = [],[]\n",
    "sc = ax.scatter(x,y,color='red',marker='+')\n",
    "plt.xlim(-150,50)\n",
    "plt.ylim(0,2500000)\n",
    "\n",
    "def animate(i):\n",
    "    label = 'epoch {0}'.format(i + 1)\n",
    "    x.append(all_b[i])\n",
    "    y.append(all_cost[i])\n",
    "    sc.set_offsets(np.c_[x,y])\n",
    "    ax.set_xlabel(label)\n",
    "\n",
    "ani = matplotlib.animation.FuncAnimation(fig, animate, \n",
    "                frames=30, interval=500, repeat=True) \n",
    "plt.show()\n",
    "\n",
    "f = r\"animation3.gif\" \n",
    "writergif = animation.PillowWriter(fps=2) \n",
    "ani.save(f, writer=writergif)"
   ]
  },
  {
   "cell_type": "code",
   "execution_count": null,
   "id": "86869a73",
   "metadata": {},
   "outputs": [],
   "source": [
    "b_input = np.linspace(-150,150,100)"
   ]
  },
  {
   "cell_type": "code",
   "execution_count": null,
   "id": "9ca30b9e",
   "metadata": {},
   "outputs": [],
   "source": [
    "cost_input = []\n",
    "\n",
    "for i in range(len(b_input)):\n",
    "    this_cost = 0 \n",
    "    for j in range(X.shape[0]):\n",
    "        this_cost = this_cost + (y[j] - m*X[j] - b_input[i])**2\n",
    "    #cost_input.append(this_cost)\n",
    "    print(this_cost)\n",
    "        "
   ]
  },
  {
   "cell_type": "code",
   "execution_count": null,
   "id": "d0494c8d",
   "metadata": {},
   "outputs": [],
   "source": []
  }
 ],
 "metadata": {
  "kernelspec": {
   "display_name": "Python 3",
   "language": "python",
   "name": "python3"
  },
  "language_info": {
   "codemirror_mode": {
    "name": "ipython",
    "version": 3
   },
   "file_extension": ".py",
   "mimetype": "text/x-python",
   "name": "python",
   "nbconvert_exporter": "python",
   "pygments_lexer": "ipython3",
   "version": "3.8.8"
  }
 },
 "nbformat": 4,
 "nbformat_minor": 5
}
